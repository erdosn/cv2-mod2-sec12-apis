{
 "cells": [
  {
   "cell_type": "code",
   "execution_count": 1,
   "metadata": {},
   "outputs": [],
   "source": [
    "from pymongo import MongoClient"
   ]
  },
  {
   "cell_type": "code",
   "execution_count": 2,
   "metadata": {},
   "outputs": [],
   "source": [
    "client = MongoClient(host='localhost', port=27017)"
   ]
  },
  {
   "cell_type": "code",
   "execution_count": 3,
   "metadata": {},
   "outputs": [
    {
     "data": {
      "text/plain": [
       "['admin',\n",
       " 'config',\n",
       " 'local',\n",
       " 'marchmadness',\n",
       " 'music_tweets',\n",
       " 'mydb',\n",
       " 'new_db',\n",
       " 'tweets']"
      ]
     },
     "execution_count": 3,
     "metadata": {},
     "output_type": "execute_result"
    }
   ],
   "source": [
    "client.list_database_names()"
   ]
  },
  {
   "cell_type": "code",
   "execution_count": 6,
   "metadata": {},
   "outputs": [],
   "source": [
    "db = client[\"music_tweets\"]"
   ]
  },
  {
   "cell_type": "code",
   "execution_count": 7,
   "metadata": {},
   "outputs": [
    {
     "data": {
      "text/plain": [
       "['kendrickLamar']"
      ]
     },
     "execution_count": 7,
     "metadata": {},
     "output_type": "execute_result"
    }
   ],
   "source": [
    "db.list_collection_names()"
   ]
  },
  {
   "cell_type": "code",
   "execution_count": 8,
   "metadata": {},
   "outputs": [],
   "source": [
    "kdot = client[\"music_tweets\"][\"kendrickLamar\"]"
   ]
  },
  {
   "cell_type": "code",
   "execution_count": 9,
   "metadata": {},
   "outputs": [
    {
     "name": "stdout",
     "output_type": "stream",
     "text": [
      "{'_id': ObjectId('5c55441d26596444e00f9b3b'), 'created_at': 'Sat Feb 02 07:17:43 +0000 2019', 'id': 1091596511681630208, 'id_str': '1091596511681630208', 'text': 'Now Playing: Tech N9ne f. Kendall Morgan, Kendrick Lamar &amp; Mayday! - Fragile (Radio Edit) on @7Six5Live #GetLive  #GetLiveMediaNetwork', 'source': '<a href=\"https://radio.co\" rel=\"nofollow\">Radio.co now playing</a>', 'truncated': False, 'in_reply_to_status_id': None, 'in_reply_to_status_id_str': None, 'in_reply_to_user_id': None, 'in_reply_to_user_id_str': None, 'in_reply_to_screen_name': None, 'user': {'id': 776128881107558401, 'id_str': '776128881107558401', 'name': '7Six5Live Radio', 'screen_name': '7Six5Live', 'location': 'Indiana, USA', 'url': 'http://7six5live.com', 'description': '7Six5 Live is a mobile streaming radio station and app playing Hip-Hop/Rap, R&B, EDM & Urban Pop music! http://7Six5Live.com', 'translator_type': 'none', 'protected': False, 'verified': False, 'followers_count': 526, 'friends_count': 201, 'listed_count': 7, 'favourites_count': 161, 'statuses_count': 176093, 'created_at': 'Wed Sep 14 18:41:59 +0000 2016', 'utc_offset': None, 'time_zone': None, 'geo_enabled': False, 'lang': 'en', 'contributors_enabled': False, 'is_translator': False, 'profile_background_color': '000000', 'profile_background_image_url': 'http://abs.twimg.com/images/themes/theme1/bg.png', 'profile_background_image_url_https': 'https://abs.twimg.com/images/themes/theme1/bg.png', 'profile_background_tile': False, 'profile_link_color': 'FF691F', 'profile_sidebar_border_color': '000000', 'profile_sidebar_fill_color': '000000', 'profile_text_color': '000000', 'profile_use_background_image': False, 'profile_image_url': 'http://pbs.twimg.com/profile_images/816774823556870144/d8OcnUcX_normal.jpg', 'profile_image_url_https': 'https://pbs.twimg.com/profile_images/816774823556870144/d8OcnUcX_normal.jpg', 'profile_banner_url': 'https://pbs.twimg.com/profile_banners/776128881107558401/1483569311', 'default_profile': False, 'default_profile_image': False, 'following': None, 'follow_request_sent': None, 'notifications': None}, 'geo': None, 'coordinates': None, 'place': None, 'contributors': None, 'is_quote_status': False, 'quote_count': 0, 'reply_count': 0, 'retweet_count': 0, 'favorite_count': 0, 'entities': {'hashtags': [{'text': 'GetLive', 'indices': [108, 116]}, {'text': 'GetLiveMediaNetwork', 'indices': [118, 138]}], 'urls': [], 'user_mentions': [{'screen_name': '7Six5Live', 'name': '7Six5Live Radio', 'id': 776128881107558401, 'id_str': '776128881107558401', 'indices': [97, 107]}], 'symbols': []}, 'favorited': False, 'retweeted': False, 'filter_level': 'low', 'lang': 'en', 'timestamp_ms': '1549091863924'}\n"
     ]
    }
   ],
   "source": [
    "for tweet in kdot.find({}):\n",
    "    print(tweet)\n",
    "    break"
   ]
  },
  {
   "cell_type": "code",
   "execution_count": null,
   "metadata": {},
   "outputs": [],
   "source": []
  }
 ],
 "metadata": {
  "kernelspec": {
   "display_name": "Python 3",
   "language": "python",
   "name": "python3"
  },
  "language_info": {
   "codemirror_mode": {
    "name": "ipython",
    "version": 3
   },
   "file_extension": ".py",
   "mimetype": "text/x-python",
   "name": "python",
   "nbconvert_exporter": "python",
   "pygments_lexer": "ipython3",
   "version": "3.7.3"
  }
 },
 "nbformat": 4,
 "nbformat_minor": 2
}
