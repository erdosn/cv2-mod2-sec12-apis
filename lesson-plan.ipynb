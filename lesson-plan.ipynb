{
 "cells": [
  {
   "cell_type": "markdown",
   "metadata": {},
   "source": [
    "### Questions"
   ]
  },
  {
   "cell_type": "markdown",
   "metadata": {},
   "source": [
    "### Objectives\n",
    "YWBAT \n",
    "* hide api permissions in your notebook\n",
    "* access api and use it in data collection"
   ]
  },
  {
   "cell_type": "markdown",
   "metadata": {},
   "source": [
    "### Outline\n",
    "* build a twitter data collection tool\n",
    "* store our tweets in a mongodb"
   ]
  },
  {
   "cell_type": "code",
   "execution_count": null,
   "metadata": {},
   "outputs": [],
   "source": [
    "import json\n",
    "import pandas as pd\n",
    "import tweepy as tw\n",
    "\n",
    "from pprint import pprint\n",
    "\n",
    "from pymongo import MongoClient"
   ]
  },
  {
   "cell_type": "code",
   "execution_count": null,
   "metadata": {},
   "outputs": [],
   "source": [
    "with open(\"/Users/rafael/.ssh/twitter_app00.json\") as f:\n",
    "    d = json.load(f)\n",
    "d.keys()"
   ]
  },
  {
   "cell_type": "code",
   "execution_count": null,
   "metadata": {},
   "outputs": [],
   "source": [
    "oauth = tw.OAuthHandler(consumer_key=d[\"consumer_key\"], consumer_secret=d[\"consumer_secret\"])\n",
    "oauth.set_access_token(key=d[\"access_token\"], secret=d[\"access_token_secret\"])"
   ]
  },
  {
   "cell_type": "code",
   "execution_count": null,
   "metadata": {},
   "outputs": [],
   "source": [
    "api = tw.API(auth_handler=oauth)"
   ]
  },
  {
   "cell_type": "markdown",
   "metadata": {},
   "source": [
    "## What can I do with Twitter's API?\n",
    "* udpate a status"
   ]
  },
  {
   "cell_type": "code",
   "execution_count": null,
   "metadata": {},
   "outputs": [],
   "source": [
    "api.update_status(\"Teaching this awesome class, makes me soooooooooo happy... #blessedAF\")"
   ]
  },
  {
   "cell_type": "code",
   "execution_count": null,
   "metadata": {},
   "outputs": [],
   "source": [
    "last_tweet_id = api.me()._json['status']['id']\n",
    "\n",
    "api.destroy_status(last_tweet_id)"
   ]
  },
  {
   "cell_type": "code",
   "execution_count": null,
   "metadata": {},
   "outputs": [],
   "source": [
    "def update_statuses(api, status_list):\n",
    "    for status in status_list:\n",
    "        api.update_status(status)\n",
    "    pass\n",
    "\n",
    "\n",
    "def delete_recent_tweet(api):\n",
    "    last_tweet_id = api.me()._json[\"status\"][\"id\"]\n",
    "    print(\"found id\")\n",
    "    print(\"deleting that ish\")\n",
    "    api.destroy_status(last_tweet_id)\n",
    "    print(\"deleted...whew....\")\n",
    "    pass"
   ]
  },
  {
   "cell_type": "code",
   "execution_count": null,
   "metadata": {},
   "outputs": [],
   "source": [
    "ces2020_tweets = list()"
   ]
  },
  {
   "cell_type": "code",
   "execution_count": null,
   "metadata": {},
   "outputs": [],
   "source": [
    "# search stuff\n",
    "results = api.search(\"#ces2020\", tweet_mode='extended')\n",
    "for r in results:\n",
    "    ces2020_tweets.append(r._json)"
   ]
  },
  {
   "cell_type": "code",
   "execution_count": null,
   "metadata": {},
   "outputs": [],
   "source": [
    "len(ces2020_tweets)"
   ]
  },
  {
   "cell_type": "markdown",
   "metadata": {},
   "source": [
    "boooooo!!!! only 15 results? Dude, I want thousands...."
   ]
  },
  {
   "cell_type": "code",
   "execution_count": null,
   "metadata": {},
   "outputs": [],
   "source": [
    "# how do I check my tweepy version?\n",
    "tw.__version__"
   ]
  },
  {
   "cell_type": "code",
   "execution_count": null,
   "metadata": {},
   "outputs": [],
   "source": [
    "class MyStreamListener(tw.StreamListener): \n",
    "# putting tw.StreamListener in here makes MyStreamListener have the same methods and attributes\n",
    "    \n",
    "    \n",
    "    def on_status(self, status):\n",
    "#         try:\n",
    "#             print(status.extended_tweet[\"full_text\"])\n",
    "#         except:\n",
    "#             print('---------not extended status---------')\n",
    "#             print(status.text)\n",
    "        print(\"inserted tweet into list\")\n",
    "        ces2020_tweets.append(status._json)\n",
    "        pass\n",
    "        \n",
    "     \n",
    "    def on_error(self, status_code):\n",
    "        if status_code == 420:\n",
    "            #returning False in on_error disconnects the stream\n",
    "            return False\n",
    "\n",
    "        # returning non-False reconnects the stream, with backoff."
   ]
  },
  {
   "cell_type": "code",
   "execution_count": null,
   "metadata": {},
   "outputs": [],
   "source": [
    "# Make a streamer object\n",
    "listener = MyStreamListener()\n",
    "\n",
    "# make a stream using our listener\n",
    "stream = tw.Stream(auth=oauth, listener=listener)"
   ]
  },
  {
   "cell_type": "markdown",
   "metadata": {},
   "source": [
    "# Connect to Mongo and Create 'Table' (collection) for got tweets"
   ]
  },
  {
   "cell_type": "code",
   "execution_count": null,
   "metadata": {},
   "outputs": [],
   "source": [
    "# client = MongoClient(host='localhost', port=27017)\n",
    "# tweets = client[\"tweets\"]"
   ]
  },
  {
   "cell_type": "code",
   "execution_count": null,
   "metadata": {},
   "outputs": [],
   "source": [
    "# got_collection = tweets[\"got_collection\"]"
   ]
  },
  {
   "cell_type": "code",
   "execution_count": null,
   "metadata": {
    "scrolled": false
   },
   "outputs": [],
   "source": [
    "ces_keywords = [\"#ces2020\", \"#CES2020\", \"#CES\"]\n",
    "stream.filter(track=ces_keywords, is_async=True)"
   ]
  },
  {
   "cell_type": "code",
   "execution_count": null,
   "metadata": {},
   "outputs": [],
   "source": [
    "len(ces2020_tweets)"
   ]
  },
  {
   "cell_type": "code",
   "execution_count": null,
   "metadata": {},
   "outputs": [],
   "source": [
    "client = MongoClient(host='localhost', port=27017)"
   ]
  },
  {
   "cell_type": "code",
   "execution_count": 4,
   "metadata": {},
   "outputs": [],
   "source": [
    "tweets = client['tweets']"
   ]
  },
  {
   "cell_type": "code",
   "execution_count": 5,
   "metadata": {},
   "outputs": [],
   "source": [
    "ces_tweets = tweets['ces_tweets']"
   ]
  },
  {
   "cell_type": "code",
   "execution_count": 6,
   "metadata": {},
   "outputs": [],
   "source": [
    "ces_tweets_list = list(ces_tweets.find())"
   ]
  },
  {
   "cell_type": "code",
   "execution_count": 7,
   "metadata": {},
   "outputs": [
    {
     "data": {
      "text/plain": [
       "408"
      ]
     },
     "execution_count": 7,
     "metadata": {},
     "output_type": "execute_result"
    }
   ],
   "source": [
    "len(ces_tweets_list)"
   ]
  },
  {
   "cell_type": "markdown",
   "metadata": {},
   "source": [
    "# let's parse a tweet for information that we want"
   ]
  },
  {
   "cell_type": "code",
   "execution_count": 8,
   "metadata": {},
   "outputs": [],
   "source": [
    "first_tweet = ces_tweets_list[0]"
   ]
  },
  {
   "cell_type": "code",
   "execution_count": 49,
   "metadata": {
    "scrolled": false
   },
   "outputs": [],
   "source": [
    "my_dict_list = []\n",
    "for first_tweet in ces_tweets_list:\n",
    "    d = {}\n",
    "    d[\"username\"] = first_tweet['user']['name']\n",
    "    d[\"userhandle\"] = first_tweet['user']['screen_name']\n",
    "    d[\"location\"] = first_tweet['user']['location']\n",
    "    d[\"hashtags\"] = first_tweet['entities']['hashtags']\n",
    "    \n",
    "    try:\n",
    "        d[\"text\"] = first_tweet['full_text']\n",
    "    except:\n",
    "        d['text'] = first_tweet['text']\n",
    "    d[\"mentions\"] = first_tweet['entities']['user_mentions']\n",
    "    d[\"created_at\"] = first_tweet['created_at']\n",
    "    d[\"device\"] = 'android' if 'android' in first_tweet['source'].lower() else 'iphone'\n",
    "    \n",
    "    my_dict_list.append(d)"
   ]
  },
  {
   "cell_type": "code",
   "execution_count": 51,
   "metadata": {
    "scrolled": false
   },
   "outputs": [
    {
     "data": {
      "text/plain": [
       "[{'username': 'NICk VAL',\n",
       "  'userhandle': 'NICK6808',\n",
       "  'location': 'CANCUN',\n",
       "  'hashtags': [{'text': 'CES2020', 'indices': [37, 45]}],\n",
       "  'text': 'RT @TIME: TIME’s 25 best products of #CES2020, including:\\n\\n🎨 Acer’s ConceptD 7 Ezel, a laptop doubling as an artist’s easel\\n💡 Moon Ultra, a…',\n",
       "  'mentions': [{'screen_name': 'TIME',\n",
       "    'name': 'TIME',\n",
       "    'id': 14293310,\n",
       "    'id_str': '14293310',\n",
       "    'indices': [3, 8]}],\n",
       "  'created_at': 'Thu Jan 09 20:24:25 +0000 2020',\n",
       "  'device': 'android'},\n",
       " {'username': 'Cosmo Connected',\n",
       "  'userhandle': 'CosmoConnected',\n",
       "  'location': 'Paris, France',\n",
       "  'hashtags': [{'text': 'ces2020', 'indices': [51, 59]},\n",
       "   {'text': 'ces', 'indices': [71, 75]},\n",
       "   {'text': 'brakelight', 'indices': [76, 87]},\n",
       "   {'text': 'safety', 'indices': [88, 95]},\n",
       "   {'text': 'safetyfirst', 'indices': [96, 108]}],\n",
       "  'text': 'Live demo of the Cosmo Ride on Oxelo’s escooter at #ces2020\\n@Decathlon #ces #brakelight #safety #safetyfirst 🛴 https://t.co/cFJaGVelQI',\n",
       "  'mentions': [{'screen_name': 'Decathlon',\n",
       "    'name': 'Decathlon',\n",
       "    'id': 126267113,\n",
       "    'id_str': '126267113',\n",
       "    'indices': [60, 70]}],\n",
       "  'created_at': 'Thu Jan 09 20:24:24 +0000 2020',\n",
       "  'device': 'iphone'},\n",
       " {'username': 'swissnex Boston',\n",
       "  'userhandle': 'swissnexBoston',\n",
       "  'location': 'Cambridge, MA',\n",
       "  'hashtags': [{'text': 'SwissTech', 'indices': [37, 47]},\n",
       "   {'text': 'CES2020', 'indices': [125, 133]}],\n",
       "  'text': 'RT @SGE: .@CES Las Vegas - the first #SwissTech night connects over 150 foreign and Swiss participants at the Venetian Hotel #CES2020 https…',\n",
       "  'mentions': [{'screen_name': 'SGE',\n",
       "    'name': 'Switzerland Global Enterprise',\n",
       "    'id': 37662458,\n",
       "    'id_str': '37662458',\n",
       "    'indices': [3, 7]},\n",
       "   {'screen_name': 'CES',\n",
       "    'name': 'CES',\n",
       "    'id': 10668202,\n",
       "    'id_str': '10668202',\n",
       "    'indices': [10, 14]}],\n",
       "  'created_at': 'Thu Jan 09 20:24:24 +0000 2020',\n",
       "  'device': 'iphone'}]"
      ]
     },
     "execution_count": 51,
     "metadata": {},
     "output_type": "execute_result"
    }
   ],
   "source": [
    "my_dict_list[:3]"
   ]
  },
  {
   "cell_type": "code",
   "execution_count": 52,
   "metadata": {
    "scrolled": false
   },
   "outputs": [
    {
     "data": {
      "text/html": [
       "<div>\n",
       "<style scoped>\n",
       "    .dataframe tbody tr th:only-of-type {\n",
       "        vertical-align: middle;\n",
       "    }\n",
       "\n",
       "    .dataframe tbody tr th {\n",
       "        vertical-align: top;\n",
       "    }\n",
       "\n",
       "    .dataframe thead th {\n",
       "        text-align: right;\n",
       "    }\n",
       "</style>\n",
       "<table border=\"1\" class=\"dataframe\">\n",
       "  <thead>\n",
       "    <tr style=\"text-align: right;\">\n",
       "      <th></th>\n",
       "      <th>username</th>\n",
       "      <th>userhandle</th>\n",
       "      <th>location</th>\n",
       "      <th>hashtags</th>\n",
       "      <th>text</th>\n",
       "      <th>mentions</th>\n",
       "      <th>created_at</th>\n",
       "      <th>device</th>\n",
       "    </tr>\n",
       "  </thead>\n",
       "  <tbody>\n",
       "    <tr>\n",
       "      <td>0</td>\n",
       "      <td>NICk VAL</td>\n",
       "      <td>NICK6808</td>\n",
       "      <td>CANCUN</td>\n",
       "      <td>[{'text': 'CES2020', 'indices': [37, 45]}]</td>\n",
       "      <td>RT @TIME: TIME’s 25 best products of #CES2020,...</td>\n",
       "      <td>[{'screen_name': 'TIME', 'name': 'TIME', 'id':...</td>\n",
       "      <td>Thu Jan 09 20:24:25 +0000 2020</td>\n",
       "      <td>android</td>\n",
       "    </tr>\n",
       "    <tr>\n",
       "      <td>1</td>\n",
       "      <td>Cosmo Connected</td>\n",
       "      <td>CosmoConnected</td>\n",
       "      <td>Paris, France</td>\n",
       "      <td>[{'text': 'ces2020', 'indices': [51, 59]}, {'t...</td>\n",
       "      <td>Live demo of the Cosmo Ride on Oxelo’s escoote...</td>\n",
       "      <td>[{'screen_name': 'Decathlon', 'name': 'Decathl...</td>\n",
       "      <td>Thu Jan 09 20:24:24 +0000 2020</td>\n",
       "      <td>iphone</td>\n",
       "    </tr>\n",
       "    <tr>\n",
       "      <td>2</td>\n",
       "      <td>swissnex Boston</td>\n",
       "      <td>swissnexBoston</td>\n",
       "      <td>Cambridge, MA</td>\n",
       "      <td>[{'text': 'SwissTech', 'indices': [37, 47]}, {...</td>\n",
       "      <td>RT @SGE: .@CES Las Vegas - the first #SwissTec...</td>\n",
       "      <td>[{'screen_name': 'SGE', 'name': 'Switzerland G...</td>\n",
       "      <td>Thu Jan 09 20:24:24 +0000 2020</td>\n",
       "      <td>iphone</td>\n",
       "    </tr>\n",
       "    <tr>\n",
       "      <td>3</td>\n",
       "      <td>MrAndmisess</td>\n",
       "      <td>andmisess</td>\n",
       "      <td>Maharashtra, India</td>\n",
       "      <td>[]</td>\n",
       "      <td>RT @Samsung: Vehicle-to-Everything underpinned...</td>\n",
       "      <td>[{'screen_name': 'Samsung', 'name': 'Samsung E...</td>\n",
       "      <td>Thu Jan 09 20:24:24 +0000 2020</td>\n",
       "      <td>android</td>\n",
       "    </tr>\n",
       "    <tr>\n",
       "      <td>4</td>\n",
       "      <td>SEDI</td>\n",
       "      <td>sedi_slim</td>\n",
       "      <td>The Netherlands</td>\n",
       "      <td>[{'text': 'CES2020', 'indices': [95, 103]}]</td>\n",
       "      <td>RT @ValaAfshar: The world generates more than ...</td>\n",
       "      <td>[{'screen_name': 'ValaAfshar', 'name': 'Vala A...</td>\n",
       "      <td>Thu Jan 09 20:24:23 +0000 2020</td>\n",
       "      <td>iphone</td>\n",
       "    </tr>\n",
       "  </tbody>\n",
       "</table>\n",
       "</div>"
      ],
      "text/plain": [
       "          username      userhandle            location  \\\n",
       "0         NICk VAL        NICK6808              CANCUN   \n",
       "1  Cosmo Connected  CosmoConnected       Paris, France   \n",
       "2  swissnex Boston  swissnexBoston       Cambridge, MA   \n",
       "3      MrAndmisess       andmisess  Maharashtra, India   \n",
       "4             SEDI       sedi_slim     The Netherlands   \n",
       "\n",
       "                                            hashtags  \\\n",
       "0         [{'text': 'CES2020', 'indices': [37, 45]}]   \n",
       "1  [{'text': 'ces2020', 'indices': [51, 59]}, {'t...   \n",
       "2  [{'text': 'SwissTech', 'indices': [37, 47]}, {...   \n",
       "3                                                 []   \n",
       "4        [{'text': 'CES2020', 'indices': [95, 103]}]   \n",
       "\n",
       "                                                text  \\\n",
       "0  RT @TIME: TIME’s 25 best products of #CES2020,...   \n",
       "1  Live demo of the Cosmo Ride on Oxelo’s escoote...   \n",
       "2  RT @SGE: .@CES Las Vegas - the first #SwissTec...   \n",
       "3  RT @Samsung: Vehicle-to-Everything underpinned...   \n",
       "4  RT @ValaAfshar: The world generates more than ...   \n",
       "\n",
       "                                            mentions  \\\n",
       "0  [{'screen_name': 'TIME', 'name': 'TIME', 'id':...   \n",
       "1  [{'screen_name': 'Decathlon', 'name': 'Decathl...   \n",
       "2  [{'screen_name': 'SGE', 'name': 'Switzerland G...   \n",
       "3  [{'screen_name': 'Samsung', 'name': 'Samsung E...   \n",
       "4  [{'screen_name': 'ValaAfshar', 'name': 'Vala A...   \n",
       "\n",
       "                       created_at   device  \n",
       "0  Thu Jan 09 20:24:25 +0000 2020  android  \n",
       "1  Thu Jan 09 20:24:24 +0000 2020   iphone  \n",
       "2  Thu Jan 09 20:24:24 +0000 2020   iphone  \n",
       "3  Thu Jan 09 20:24:24 +0000 2020  android  \n",
       "4  Thu Jan 09 20:24:23 +0000 2020   iphone  "
      ]
     },
     "execution_count": 52,
     "metadata": {},
     "output_type": "execute_result"
    }
   ],
   "source": [
    "df = pd.DataFrame(my_dict_list)\n",
    "df.head()"
   ]
  },
  {
   "cell_type": "markdown",
   "metadata": {},
   "source": [
    "### What did you learn?"
   ]
  },
  {
   "cell_type": "markdown",
   "metadata": {},
   "source": [
    "* pprint - Alex\n",
    "* parse data from a json - Alisa\n",
    "* how to kill a haunted jupyter notebook by restarting kernel - Andy\n",
    "* using loops to repeat tasks  - Johnny\n",
    "* try/except to avoid breaks - Andy"
   ]
  },
  {
   "cell_type": "code",
   "execution_count": 55,
   "metadata": {},
   "outputs": [
    {
     "name": "stdout",
     "output_type": "stream",
     "text": [
      "stop\n",
      "3\n"
     ]
    }
   ],
   "source": [
    "p = 3\n",
    "\n",
    "try:\n",
    "    p + \"a\"\n",
    "except:\n",
    "    try:\n",
    "        p + [1]\n",
    "    except:\n",
    "        print('stop')\n",
    "        print(p)"
   ]
  },
  {
   "cell_type": "code",
   "execution_count": null,
   "metadata": {},
   "outputs": [],
   "source": []
  }
 ],
 "metadata": {
  "kernelspec": {
   "display_name": "Python 3",
   "language": "python",
   "name": "python3"
  },
  "language_info": {
   "codemirror_mode": {
    "name": "ipython",
    "version": 3
   },
   "file_extension": ".py",
   "mimetype": "text/x-python",
   "name": "python",
   "nbconvert_exporter": "python",
   "pygments_lexer": "ipython3",
   "version": "3.6.0"
  }
 },
 "nbformat": 4,
 "nbformat_minor": 2
}
