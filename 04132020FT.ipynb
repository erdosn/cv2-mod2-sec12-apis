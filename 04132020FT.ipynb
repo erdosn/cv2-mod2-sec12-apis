{
 "cells": [
  {
   "cell_type": "markdown",
   "metadata": {},
   "source": [
    "# Objectives\n",
    "YWBAT\n",
    "* make a request using the `requests` library in Python\n",
    "* make a request using the Postman App\n",
    "* make a request using the Yelp API Library\n",
    "* build custom functions to make yelp requests"
   ]
  },
  {
   "cell_type": "markdown",
   "metadata": {},
   "source": [
    "# What is an API? (Application Programming Interface)\n",
    "* allows 2 software systems to interact\n",
    "* how to get software to do what you need it to do\n",
    "* a way for people to access someone else's data or software\n",
    "\n",
    "\n",
    "# Example\n",
    "* Pandas API\n",
    "    * allows a user to interact with a dataframe (xlsx, csv, tsv, json)\n",
    "    \n",
    "* Git API\n",
    "    * allows a user to interact with repos"
   ]
  },
  {
   "cell_type": "markdown",
   "metadata": {},
   "source": [
    "# Some APIs are meant to interact with a database\n",
    "* Yelp API\n",
    "* Folium\n",
    "* NASA\n",
    "* Twitter <- my favorite\n",
    "\n",
    "### To interact you have to do a few things\n",
    "* Go up to a database with a request\n",
    "* You knock on the database door and you show a key to the door person\n",
    "* The door person hands you the data you want (with some constraints)"
   ]
  },
  {
   "cell_type": "markdown",
   "metadata": {},
   "source": [
    "# Did we just learn anything new? \n",
    "* Pandas is an API\n",
    "* Basic overview of an API\n",
    "* Real Time Markdown Rendering\n",
    "* You've been working with APIs"
   ]
  },
  {
   "cell_type": "markdown",
   "metadata": {},
   "source": [
    "# We'll be using the YELP API to get some data...."
   ]
  },
  {
   "cell_type": "code",
   "execution_count": 1,
   "metadata": {},
   "outputs": [],
   "source": [
    "import json\n",
    "import requests"
   ]
  },
  {
   "cell_type": "markdown",
   "metadata": {},
   "source": [
    "# Load in our file contents"
   ]
  },
  {
   "cell_type": "code",
   "execution_count": 22,
   "metadata": {},
   "outputs": [],
   "source": [
    "# why should you use 'with' -> because it opens the file and closes it at the end of the task\n",
    "with open(\"/Users/rafael/.ssh/yelp.json\") as f:\n",
    "    yelp = json.load(f)"
   ]
  },
  {
   "cell_type": "code",
   "execution_count": 23,
   "metadata": {},
   "outputs": [
    {
     "data": {
      "text/plain": [
       "dict_keys(['client_id', 'api_key'])"
      ]
     },
     "execution_count": 23,
     "metadata": {},
     "output_type": "execute_result"
    }
   ],
   "source": [
    "yelp.keys()"
   ]
  },
  {
   "cell_type": "code",
   "execution_count": 10,
   "metadata": {},
   "outputs": [],
   "source": [
    "f = open(\"/Users/rafael/.ssh/yelp_app_2_string.txt\")"
   ]
  },
  {
   "cell_type": "code",
   "execution_count": 11,
   "metadata": {},
   "outputs": [],
   "source": [
    "contents = f.read()"
   ]
  },
  {
   "cell_type": "code",
   "execution_count": 14,
   "metadata": {},
   "outputs": [
    {
     "data": {
      "text/plain": [
       "'\"{\\n\\t\"clientID\":\"your id goes here\",\\n\\t\"AppKey\":\"key goes here\",\\n\\t\"listKey\":[1, 2, 3, 4]\\n}\"\\n'"
      ]
     },
     "execution_count": 14,
     "metadata": {},
     "output_type": "execute_result"
    }
   ],
   "source": [
    "contents"
   ]
  },
  {
   "cell_type": "code",
   "execution_count": 18,
   "metadata": {},
   "outputs": [
    {
     "data": {
      "text/plain": [
       "{'clientID': 'your id goes here',\n",
       " 'AppKey': 'key goes here',\n",
       " 'listKey': [1, 2, 3, 4]}"
      ]
     },
     "execution_count": 18,
     "metadata": {},
     "output_type": "execute_result"
    }
   ],
   "source": [
    "json.loads(contents.replace(\"\\n\\t\", \"\").replace(\"\\n\", \"\").strip('\"'))"
   ]
  },
  {
   "cell_type": "markdown",
   "metadata": {},
   "source": [
    "### json.load() vs json.loads()\n",
    "\n",
    "* json.load() -> when loading in a `.json` file\n",
    "* json.loads() -> when loading in a stringed file, but the string is a json"
   ]
  },
  {
   "cell_type": "markdown",
   "metadata": {},
   "source": [
    "# Making a YELP request using their API"
   ]
  },
  {
   "cell_type": "markdown",
   "metadata": {},
   "source": [
    "### Create request without using the Python/Yelp API"
   ]
  },
  {
   "cell_type": "code",
   "execution_count": 29,
   "metadata": {},
   "outputs": [],
   "source": [
    "business_endpoint = \"https://api.yelp.com/v3/businesses/search\"\n",
    "params = {\"term\":\"boba tea\", \"location\": \"Irving, Tx\"}\n",
    "headers = {\"Authorization\": f\"Bearer {yelp['api_key']}\"}"
   ]
  },
  {
   "cell_type": "code",
   "execution_count": 30,
   "metadata": {},
   "outputs": [],
   "source": [
    "r = requests.get(business_endpoint, params=params, headers=headers)"
   ]
  },
  {
   "cell_type": "code",
   "execution_count": 41,
   "metadata": {},
   "outputs": [
    {
     "name": "stdout",
     "output_type": "stream",
     "text": [
      "Help on class Response in module requests.models:\n",
      "\n",
      "class Response(builtins.object)\n",
      " |  The :class:`Response <Response>` object, which contains a\n",
      " |  server's response to an HTTP request.\n",
      " |  \n",
      " |  Methods defined here:\n",
      " |  \n",
      " |  __bool__(self)\n",
      " |      Returns True if :attr:`status_code` is less than 400.\n",
      " |      \n",
      " |      This attribute checks if the status code of the response is between\n",
      " |      400 and 600 to see if there was a client error or a server error. If\n",
      " |      the status code, is between 200 and 400, this will return True. This\n",
      " |      is **not** a check to see if the response code is ``200 OK``.\n",
      " |  \n",
      " |  __enter__(self)\n",
      " |  \n",
      " |  __exit__(self, *args)\n",
      " |  \n",
      " |  __getstate__(self)\n",
      " |  \n",
      " |  __init__(self)\n",
      " |      Initialize self.  See help(type(self)) for accurate signature.\n",
      " |  \n",
      " |  __iter__(self)\n",
      " |      Allows you to use a response as an iterator.\n",
      " |  \n",
      " |  __nonzero__(self)\n",
      " |      Returns True if :attr:`status_code` is less than 400.\n",
      " |      \n",
      " |      This attribute checks if the status code of the response is between\n",
      " |      400 and 600 to see if there was a client error or a server error. If\n",
      " |      the status code, is between 200 and 400, this will return True. This\n",
      " |      is **not** a check to see if the response code is ``200 OK``.\n",
      " |  \n",
      " |  __repr__(self)\n",
      " |      Return repr(self).\n",
      " |  \n",
      " |  __setstate__(self, state)\n",
      " |  \n",
      " |  close(self)\n",
      " |      Releases the connection back to the pool. Once this method has been\n",
      " |      called the underlying ``raw`` object must not be accessed again.\n",
      " |      \n",
      " |      *Note: Should not normally need to be called explicitly.*\n",
      " |  \n",
      " |  iter_content(self, chunk_size=1, decode_unicode=False)\n",
      " |      Iterates over the response data.  When stream=True is set on the\n",
      " |      request, this avoids reading the content at once into memory for\n",
      " |      large responses.  The chunk size is the number of bytes it should\n",
      " |      read into memory.  This is not necessarily the length of each item\n",
      " |      returned as decoding can take place.\n",
      " |      \n",
      " |      chunk_size must be of type int or None. A value of None will\n",
      " |      function differently depending on the value of `stream`.\n",
      " |      stream=True will read data as it arrives in whatever size the\n",
      " |      chunks are received. If stream=False, data is returned as\n",
      " |      a single chunk.\n",
      " |      \n",
      " |      If decode_unicode is True, content will be decoded using the best\n",
      " |      available encoding based on the response.\n",
      " |  \n",
      " |  iter_lines(self, chunk_size=512, decode_unicode=False, delimiter=None)\n",
      " |      Iterates over the response data, one line at a time.  When\n",
      " |      stream=True is set on the request, this avoids reading the\n",
      " |      content at once into memory for large responses.\n",
      " |      \n",
      " |      .. note:: This method is not reentrant safe.\n",
      " |  \n",
      " |  json(self, **kwargs)\n",
      " |      Returns the json-encoded content of a response, if any.\n",
      " |      \n",
      " |      :param \\*\\*kwargs: Optional arguments that ``json.loads`` takes.\n",
      " |      :raises ValueError: If the response body does not contain valid json.\n",
      " |  \n",
      " |  raise_for_status(self)\n",
      " |      Raises stored :class:`HTTPError`, if one occurred.\n",
      " |  \n",
      " |  ----------------------------------------------------------------------\n",
      " |  Data descriptors defined here:\n",
      " |  \n",
      " |  __dict__\n",
      " |      dictionary for instance variables (if defined)\n",
      " |  \n",
      " |  __weakref__\n",
      " |      list of weak references to the object (if defined)\n",
      " |  \n",
      " |  apparent_encoding\n",
      " |      The apparent encoding, provided by the chardet library.\n",
      " |  \n",
      " |  content\n",
      " |      Content of the response, in bytes.\n",
      " |  \n",
      " |  is_permanent_redirect\n",
      " |      True if this Response one of the permanent versions of redirect.\n",
      " |  \n",
      " |  is_redirect\n",
      " |      True if this Response is a well-formed HTTP redirect that could have\n",
      " |      been processed automatically (by :meth:`Session.resolve_redirects`).\n",
      " |  \n",
      " |  links\n",
      " |      Returns the parsed header links of the response, if any.\n",
      " |  \n",
      " |  next\n",
      " |      Returns a PreparedRequest for the next request in a redirect chain, if there is one.\n",
      " |  \n",
      " |  ok\n",
      " |      Returns True if :attr:`status_code` is less than 400, False if not.\n",
      " |      \n",
      " |      This attribute checks if the status code of the response is between\n",
      " |      400 and 600 to see if there was a client error or a server error. If\n",
      " |      the status code is between 200 and 400, this will return True. This\n",
      " |      is **not** a check to see if the response code is ``200 OK``.\n",
      " |  \n",
      " |  text\n",
      " |      Content of the response, in unicode.\n",
      " |      \n",
      " |      If Response.encoding is None, encoding will be guessed using\n",
      " |      ``chardet``.\n",
      " |      \n",
      " |      The encoding of the response content is determined based solely on HTTP\n",
      " |      headers, following RFC 2616 to the letter. If you can take advantage of\n",
      " |      non-HTTP knowledge to make a better guess at the encoding, you should\n",
      " |      set ``r.encoding`` appropriately before accessing this property.\n",
      " |  \n",
      " |  ----------------------------------------------------------------------\n",
      " |  Data and other attributes defined here:\n",
      " |  \n",
      " |  __attrs__ = ['_content', 'status_code', 'headers', 'url', 'history', '...\n",
      "\n"
     ]
    }
   ],
   "source": [
    "help(requests.models.Response)"
   ]
  },
  {
   "cell_type": "code",
   "execution_count": 35,
   "metadata": {},
   "outputs": [],
   "source": [
    "response = r.json()"
   ]
  },
  {
   "cell_type": "code",
   "execution_count": 36,
   "metadata": {},
   "outputs": [
    {
     "data": {
      "text/plain": [
       "dict_keys(['businesses', 'total', 'region'])"
      ]
     },
     "execution_count": 36,
     "metadata": {},
     "output_type": "execute_result"
    }
   ],
   "source": [
    "response.keys()"
   ]
  },
  {
   "cell_type": "code",
   "execution_count": 39,
   "metadata": {},
   "outputs": [
    {
     "data": {
      "text/html": [
       "<div>\n",
       "<style scoped>\n",
       "    .dataframe tbody tr th:only-of-type {\n",
       "        vertical-align: middle;\n",
       "    }\n",
       "\n",
       "    .dataframe tbody tr th {\n",
       "        vertical-align: top;\n",
       "    }\n",
       "\n",
       "    .dataframe thead th {\n",
       "        text-align: right;\n",
       "    }\n",
       "</style>\n",
       "<table border=\"1\" class=\"dataframe\">\n",
       "  <thead>\n",
       "    <tr style=\"text-align: right;\">\n",
       "      <th></th>\n",
       "      <th>id</th>\n",
       "      <th>alias</th>\n",
       "      <th>name</th>\n",
       "      <th>image_url</th>\n",
       "      <th>is_closed</th>\n",
       "      <th>url</th>\n",
       "      <th>review_count</th>\n",
       "      <th>categories</th>\n",
       "      <th>rating</th>\n",
       "      <th>coordinates</th>\n",
       "      <th>transactions</th>\n",
       "      <th>price</th>\n",
       "      <th>location</th>\n",
       "      <th>phone</th>\n",
       "      <th>display_phone</th>\n",
       "      <th>distance</th>\n",
       "    </tr>\n",
       "  </thead>\n",
       "  <tbody>\n",
       "    <tr>\n",
       "      <td>0</td>\n",
       "      <td>Zga13Phl6BRrWxjAmNEuiQ</td>\n",
       "      <td>zero-degrees-irving</td>\n",
       "      <td>Zero Degrees</td>\n",
       "      <td>https://s3-media3.fl.yelpcdn.com/bphoto/um1w6d...</td>\n",
       "      <td>False</td>\n",
       "      <td>https://www.yelp.com/biz/zero-degrees-irving?a...</td>\n",
       "      <td>91</td>\n",
       "      <td>[{'alias': 'bubbletea', 'title': 'Bubble Tea'}...</td>\n",
       "      <td>3.5</td>\n",
       "      <td>{'latitude': 32.839413, 'longitude': -96.991215}</td>\n",
       "      <td>[pickup, delivery]</td>\n",
       "      <td>$$</td>\n",
       "      <td>{'address1': '3401 W Airport Fwy', 'address2':...</td>\n",
       "      <td>+19724570051</td>\n",
       "      <td>(972) 457-0051</td>\n",
       "      <td>3509.160524</td>\n",
       "    </tr>\n",
       "    <tr>\n",
       "      <td>1</td>\n",
       "      <td>neQZ06_BDrhBB8Moyak67Q</td>\n",
       "      <td>tiger-sugar-carrollton-2</td>\n",
       "      <td>Tiger Sugar</td>\n",
       "      <td>https://s3-media2.fl.yelpcdn.com/bphoto/XNEEdw...</td>\n",
       "      <td>False</td>\n",
       "      <td>https://www.yelp.com/biz/tiger-sugar-carrollto...</td>\n",
       "      <td>49</td>\n",
       "      <td>[{'alias': 'bubbletea', 'title': 'Bubble Tea'}]</td>\n",
       "      <td>4.0</td>\n",
       "      <td>{'latitude': 32.98474, 'longitude': -96.91038}</td>\n",
       "      <td>[pickup, delivery]</td>\n",
       "      <td>NaN</td>\n",
       "      <td>{'address1': '2625 Old Denton Rd', 'address2':...</td>\n",
       "      <td></td>\n",
       "      <td></td>\n",
       "      <td>14586.052811</td>\n",
       "    </tr>\n",
       "    <tr>\n",
       "      <td>2</td>\n",
       "      <td>AKpFdTD-HEWY4hqEqqds7g</td>\n",
       "      <td>9-rabbits-bakery-dallas</td>\n",
       "      <td>9 Rabbits Bakery</td>\n",
       "      <td>https://s3-media4.fl.yelpcdn.com/bphoto/bSAtNx...</td>\n",
       "      <td>False</td>\n",
       "      <td>https://www.yelp.com/biz/9-rabbits-bakery-dall...</td>\n",
       "      <td>425</td>\n",
       "      <td>[{'alias': 'bakeries', 'title': 'Bakeries'}, {...</td>\n",
       "      <td>4.0</td>\n",
       "      <td>{'latitude': 32.8957035472635, 'longitude': -9...</td>\n",
       "      <td>[pickup, delivery]</td>\n",
       "      <td>$</td>\n",
       "      <td>{'address1': '2546 Royal Ln', 'address2': '', ...</td>\n",
       "      <td>+19722434478</td>\n",
       "      <td>(972) 243-4478</td>\n",
       "      <td>7676.587553</td>\n",
       "    </tr>\n",
       "    <tr>\n",
       "      <td>3</td>\n",
       "      <td>PvA5d3nKcLdW9Z9Je9scvw</td>\n",
       "      <td>thai-tea-asian-fusion-cafe-irving</td>\n",
       "      <td>Thai Tea Asian Fusion Cafe</td>\n",
       "      <td>https://s3-media2.fl.yelpcdn.com/bphoto/oZVY1S...</td>\n",
       "      <td>False</td>\n",
       "      <td>https://www.yelp.com/biz/thai-tea-asian-fusion...</td>\n",
       "      <td>269</td>\n",
       "      <td>[{'alias': 'thai', 'title': 'Thai'}, {'alias':...</td>\n",
       "      <td>3.5</td>\n",
       "      <td>{'latitude': 32.91897, 'longitude': -96.99423}</td>\n",
       "      <td>[pickup, delivery]</td>\n",
       "      <td>$$</td>\n",
       "      <td>{'address1': '8251 N Belt Line Rd', 'address2'...</td>\n",
       "      <td>+19729299888</td>\n",
       "      <td>(972) 929-9888</td>\n",
       "      <td>6788.836269</td>\n",
       "    </tr>\n",
       "    <tr>\n",
       "      <td>4</td>\n",
       "      <td>FJoH2gkwGEM2VgRlOn51Sw</td>\n",
       "      <td>itea-lounge-euless</td>\n",
       "      <td>iTea Lounge</td>\n",
       "      <td>https://s3-media1.fl.yelpcdn.com/bphoto/JEbp33...</td>\n",
       "      <td>False</td>\n",
       "      <td>https://www.yelp.com/biz/itea-lounge-euless?ad...</td>\n",
       "      <td>122</td>\n",
       "      <td>[{'alias': 'coffee', 'title': 'Coffee &amp; Tea'},...</td>\n",
       "      <td>4.5</td>\n",
       "      <td>{'latitude': 32.8806157399706, 'longitude': -9...</td>\n",
       "      <td>[delivery]</td>\n",
       "      <td>$</td>\n",
       "      <td>{'address1': '1301 W Glade Rd', 'address2': 'S...</td>\n",
       "      <td>+18173581610</td>\n",
       "      <td>(817) 358-1610</td>\n",
       "      <td>12817.445970</td>\n",
       "    </tr>\n",
       "  </tbody>\n",
       "</table>\n",
       "</div>"
      ],
      "text/plain": [
       "                       id                              alias  \\\n",
       "0  Zga13Phl6BRrWxjAmNEuiQ                zero-degrees-irving   \n",
       "1  neQZ06_BDrhBB8Moyak67Q           tiger-sugar-carrollton-2   \n",
       "2  AKpFdTD-HEWY4hqEqqds7g            9-rabbits-bakery-dallas   \n",
       "3  PvA5d3nKcLdW9Z9Je9scvw  thai-tea-asian-fusion-cafe-irving   \n",
       "4  FJoH2gkwGEM2VgRlOn51Sw                 itea-lounge-euless   \n",
       "\n",
       "                         name  \\\n",
       "0                Zero Degrees   \n",
       "1                 Tiger Sugar   \n",
       "2            9 Rabbits Bakery   \n",
       "3  Thai Tea Asian Fusion Cafe   \n",
       "4                 iTea Lounge   \n",
       "\n",
       "                                           image_url  is_closed  \\\n",
       "0  https://s3-media3.fl.yelpcdn.com/bphoto/um1w6d...      False   \n",
       "1  https://s3-media2.fl.yelpcdn.com/bphoto/XNEEdw...      False   \n",
       "2  https://s3-media4.fl.yelpcdn.com/bphoto/bSAtNx...      False   \n",
       "3  https://s3-media2.fl.yelpcdn.com/bphoto/oZVY1S...      False   \n",
       "4  https://s3-media1.fl.yelpcdn.com/bphoto/JEbp33...      False   \n",
       "\n",
       "                                                 url  review_count  \\\n",
       "0  https://www.yelp.com/biz/zero-degrees-irving?a...            91   \n",
       "1  https://www.yelp.com/biz/tiger-sugar-carrollto...            49   \n",
       "2  https://www.yelp.com/biz/9-rabbits-bakery-dall...           425   \n",
       "3  https://www.yelp.com/biz/thai-tea-asian-fusion...           269   \n",
       "4  https://www.yelp.com/biz/itea-lounge-euless?ad...           122   \n",
       "\n",
       "                                          categories  rating  \\\n",
       "0  [{'alias': 'bubbletea', 'title': 'Bubble Tea'}...     3.5   \n",
       "1    [{'alias': 'bubbletea', 'title': 'Bubble Tea'}]     4.0   \n",
       "2  [{'alias': 'bakeries', 'title': 'Bakeries'}, {...     4.0   \n",
       "3  [{'alias': 'thai', 'title': 'Thai'}, {'alias':...     3.5   \n",
       "4  [{'alias': 'coffee', 'title': 'Coffee & Tea'},...     4.5   \n",
       "\n",
       "                                         coordinates        transactions  \\\n",
       "0   {'latitude': 32.839413, 'longitude': -96.991215}  [pickup, delivery]   \n",
       "1     {'latitude': 32.98474, 'longitude': -96.91038}  [pickup, delivery]   \n",
       "2  {'latitude': 32.8957035472635, 'longitude': -9...  [pickup, delivery]   \n",
       "3     {'latitude': 32.91897, 'longitude': -96.99423}  [pickup, delivery]   \n",
       "4  {'latitude': 32.8806157399706, 'longitude': -9...          [delivery]   \n",
       "\n",
       "  price                                           location         phone  \\\n",
       "0    $$  {'address1': '3401 W Airport Fwy', 'address2':...  +19724570051   \n",
       "1   NaN  {'address1': '2625 Old Denton Rd', 'address2':...                 \n",
       "2     $  {'address1': '2546 Royal Ln', 'address2': '', ...  +19722434478   \n",
       "3    $$  {'address1': '8251 N Belt Line Rd', 'address2'...  +19729299888   \n",
       "4     $  {'address1': '1301 W Glade Rd', 'address2': 'S...  +18173581610   \n",
       "\n",
       "    display_phone      distance  \n",
       "0  (972) 457-0051   3509.160524  \n",
       "1                  14586.052811  \n",
       "2  (972) 243-4478   7676.587553  \n",
       "3  (972) 929-9888   6788.836269  \n",
       "4  (817) 358-1610  12817.445970  "
      ]
     },
     "execution_count": 39,
     "metadata": {},
     "output_type": "execute_result"
    }
   ],
   "source": [
    "import pandas as pd\n",
    "df = pd.DataFrame(response['businesses'])\n",
    "df.head()"
   ]
  },
  {
   "cell_type": "code",
   "execution_count": null,
   "metadata": {},
   "outputs": [],
   "source": []
  }
 ],
 "metadata": {
  "kernelspec": {
   "display_name": "Python [conda env:flatiron-env] *",
   "language": "python",
   "name": "conda-env-flatiron-env-py"
  },
  "language_info": {
   "codemirror_mode": {
    "name": "ipython",
    "version": 3
   },
   "file_extension": ".py",
   "mimetype": "text/x-python",
   "name": "python",
   "nbconvert_exporter": "python",
   "pygments_lexer": "ipython3",
   "version": "3.6.0"
  }
 },
 "nbformat": 4,
 "nbformat_minor": 2
}
